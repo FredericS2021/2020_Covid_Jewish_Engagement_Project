{
 "cells": [
  {
   "cell_type": "markdown",
   "metadata": {},
   "source": [
    "Before we begin...\n",
    "\n",
    "Questions:\n",
    "* How has Covid influenced people?\n",
    " * i.e. are people being introspective, working on themselves, etc. or is something else going on?\n",
    " * Which backgrounds are most affected?"
   ]
  },
  {
   "cell_type": "code",
   "execution_count": 35,
   "metadata": {},
   "outputs": [],
   "source": [
    "import pandas as pd\n",
    "import numpy as np\n",
    "import sklearn as sk\n",
    "import matplotlib.pyplot as plt\n",
    "import seaborn as sns"
   ]
  },
  {
   "cell_type": "code",
   "execution_count": 18,
   "metadata": {},
   "outputs": [],
   "source": [
    "jewish_covid_data = pd.read_spss('2020 COVID_Jewish Engagement_High Holidays_SPSS SAV_DB.sav')"
   ]
  },
  {
   "cell_type": "code",
   "execution_count": 19,
   "metadata": {
    "scrolled": true
   },
   "outputs": [],
   "source": [
    "#list(jewish_covid_data.columns)"
   ]
  },
  {
   "cell_type": "code",
   "execution_count": 20,
   "metadata": {},
   "outputs": [
    {
     "data": {
      "text/html": [
       "<div>\n",
       "<style scoped>\n",
       "    .dataframe tbody tr th:only-of-type {\n",
       "        vertical-align: middle;\n",
       "    }\n",
       "\n",
       "    .dataframe tbody tr th {\n",
       "        vertical-align: top;\n",
       "    }\n",
       "\n",
       "    .dataframe thead th {\n",
       "        text-align: right;\n",
       "    }\n",
       "</style>\n",
       "<table border=\"1\" class=\"dataframe\">\n",
       "  <thead>\n",
       "    <tr style=\"text-align: right;\">\n",
       "      <th></th>\n",
       "      <th>record</th>\n",
       "      <th>qAge</th>\n",
       "      <th>qState</th>\n",
       "      <th>q1_1</th>\n",
       "      <th>q1_2</th>\n",
       "      <th>qEthnicity_1</th>\n",
       "      <th>qEthnicity_2</th>\n",
       "      <th>qEthnicity_3</th>\n",
       "      <th>qEthnicity_4</th>\n",
       "      <th>qEthnicity_5</th>\n",
       "      <th>...</th>\n",
       "      <th>qChildren3</th>\n",
       "      <th>qMarital</th>\n",
       "      <th>qHHFaith</th>\n",
       "      <th>qOrientation_1</th>\n",
       "      <th>qOrientation_2</th>\n",
       "      <th>qOrientation_3</th>\n",
       "      <th>qHHIncome</th>\n",
       "      <th>qAbility_1</th>\n",
       "      <th>qAbility_2</th>\n",
       "      <th>ALLWT</th>\n",
       "    </tr>\n",
       "  </thead>\n",
       "  <tbody>\n",
       "    <tr>\n",
       "      <th>0</th>\n",
       "      <td>2.0</td>\n",
       "      <td>63</td>\n",
       "      <td>Arizona</td>\n",
       "      <td>A woman</td>\n",
       "      <td>NaN</td>\n",
       "      <td>White-For example, German, Irish, English, Ita...</td>\n",
       "      <td>NaN</td>\n",
       "      <td>NaN</td>\n",
       "      <td>NaN</td>\n",
       "      <td>NaN</td>\n",
       "      <td>...</td>\n",
       "      <td>No</td>\n",
       "      <td>Married / Domestic Partnership</td>\n",
       "      <td>No</td>\n",
       "      <td>Straight or heterosexual</td>\n",
       "      <td>NaN</td>\n",
       "      <td>NaN</td>\n",
       "      <td>$35,000 - less than $50,000</td>\n",
       "      <td>Yes, I do</td>\n",
       "      <td>NaN</td>\n",
       "      <td>1.275025</td>\n",
       "    </tr>\n",
       "    <tr>\n",
       "      <th>1</th>\n",
       "      <td>3.0</td>\n",
       "      <td>67</td>\n",
       "      <td>Massachusetts</td>\n",
       "      <td>A woman</td>\n",
       "      <td>NaN</td>\n",
       "      <td>White-For example, German, Irish, English, Ita...</td>\n",
       "      <td>NaN</td>\n",
       "      <td>NaN</td>\n",
       "      <td>NaN</td>\n",
       "      <td>NaN</td>\n",
       "      <td>...</td>\n",
       "      <td>No</td>\n",
       "      <td>Married / Domestic Partnership</td>\n",
       "      <td>Yes</td>\n",
       "      <td>Straight or heterosexual</td>\n",
       "      <td>NaN</td>\n",
       "      <td>NaN</td>\n",
       "      <td>$150,000 to less than $200,000</td>\n",
       "      <td>No</td>\n",
       "      <td>NaN</td>\n",
       "      <td>0.758117</td>\n",
       "    </tr>\n",
       "    <tr>\n",
       "      <th>2</th>\n",
       "      <td>4.0</td>\n",
       "      <td>53</td>\n",
       "      <td>Florida</td>\n",
       "      <td>A man</td>\n",
       "      <td>NaN</td>\n",
       "      <td>White-For example, German, Irish, English, Ita...</td>\n",
       "      <td>NaN</td>\n",
       "      <td>NaN</td>\n",
       "      <td>NaN</td>\n",
       "      <td>NaN</td>\n",
       "      <td>...</td>\n",
       "      <td>Yes</td>\n",
       "      <td>Married / Domestic Partnership</td>\n",
       "      <td>No</td>\n",
       "      <td>Straight or heterosexual</td>\n",
       "      <td>NaN</td>\n",
       "      <td>NaN</td>\n",
       "      <td>$75,000 - less than $100,000</td>\n",
       "      <td>No</td>\n",
       "      <td>NaN</td>\n",
       "      <td>1.226917</td>\n",
       "    </tr>\n",
       "    <tr>\n",
       "      <th>3</th>\n",
       "      <td>5.0</td>\n",
       "      <td>59</td>\n",
       "      <td>Massachusetts</td>\n",
       "      <td>A woman</td>\n",
       "      <td>NaN</td>\n",
       "      <td>White-For example, German, Irish, English, Ita...</td>\n",
       "      <td>NaN</td>\n",
       "      <td>NaN</td>\n",
       "      <td>NaN</td>\n",
       "      <td>NaN</td>\n",
       "      <td>...</td>\n",
       "      <td>No</td>\n",
       "      <td>Married / Domestic Partnership</td>\n",
       "      <td>No</td>\n",
       "      <td>Straight or heterosexual</td>\n",
       "      <td>NaN</td>\n",
       "      <td>NaN</td>\n",
       "      <td>$50,000 - less than $75,000</td>\n",
       "      <td>No</td>\n",
       "      <td>NaN</td>\n",
       "      <td>1.252093</td>\n",
       "    </tr>\n",
       "    <tr>\n",
       "      <th>4</th>\n",
       "      <td>6.0</td>\n",
       "      <td>55</td>\n",
       "      <td>New Jersey</td>\n",
       "      <td>A woman</td>\n",
       "      <td>NaN</td>\n",
       "      <td>White-For example, German, Irish, English, Ita...</td>\n",
       "      <td>NaN</td>\n",
       "      <td>NaN</td>\n",
       "      <td>NaN</td>\n",
       "      <td>NaN</td>\n",
       "      <td>...</td>\n",
       "      <td>Yes</td>\n",
       "      <td>Married / Domestic Partnership</td>\n",
       "      <td>No</td>\n",
       "      <td>Straight or heterosexual</td>\n",
       "      <td>NaN</td>\n",
       "      <td>NaN</td>\n",
       "      <td>$200,000 or more</td>\n",
       "      <td>No</td>\n",
       "      <td>NaN</td>\n",
       "      <td>1.252093</td>\n",
       "    </tr>\n",
       "  </tbody>\n",
       "</table>\n",
       "<p>5 rows × 260 columns</p>\n",
       "</div>"
      ],
      "text/plain": [
       "   record qAge         qState     q1_1 q1_2  \\\n",
       "0     2.0   63        Arizona  A woman  NaN   \n",
       "1     3.0   67  Massachusetts  A woman  NaN   \n",
       "2     4.0   53        Florida    A man  NaN   \n",
       "3     5.0   59  Massachusetts  A woman  NaN   \n",
       "4     6.0   55     New Jersey  A woman  NaN   \n",
       "\n",
       "                                        qEthnicity_1 qEthnicity_2  \\\n",
       "0  White-For example, German, Irish, English, Ita...          NaN   \n",
       "1  White-For example, German, Irish, English, Ita...          NaN   \n",
       "2  White-For example, German, Irish, English, Ita...          NaN   \n",
       "3  White-For example, German, Irish, English, Ita...          NaN   \n",
       "4  White-For example, German, Irish, English, Ita...          NaN   \n",
       "\n",
       "  qEthnicity_3 qEthnicity_4 qEthnicity_5  ... qChildren3  \\\n",
       "0          NaN          NaN          NaN  ...         No   \n",
       "1          NaN          NaN          NaN  ...         No   \n",
       "2          NaN          NaN          NaN  ...        Yes   \n",
       "3          NaN          NaN          NaN  ...         No   \n",
       "4          NaN          NaN          NaN  ...        Yes   \n",
       "\n",
       "                         qMarital qHHFaith            qOrientation_1  \\\n",
       "0  Married / Domestic Partnership       No  Straight or heterosexual   \n",
       "1  Married / Domestic Partnership      Yes  Straight or heterosexual   \n",
       "2  Married / Domestic Partnership       No  Straight or heterosexual   \n",
       "3  Married / Domestic Partnership       No  Straight or heterosexual   \n",
       "4  Married / Domestic Partnership       No  Straight or heterosexual   \n",
       "\n",
       "  qOrientation_2 qOrientation_3                       qHHIncome qAbility_1  \\\n",
       "0            NaN            NaN     $35,000 - less than $50,000  Yes, I do   \n",
       "1            NaN            NaN  $150,000 to less than $200,000         No   \n",
       "2            NaN            NaN    $75,000 - less than $100,000         No   \n",
       "3            NaN            NaN     $50,000 - less than $75,000         No   \n",
       "4            NaN            NaN                $200,000 or more         No   \n",
       "\n",
       "  qAbility_2     ALLWT  \n",
       "0        NaN  1.275025  \n",
       "1        NaN  0.758117  \n",
       "2        NaN  1.226917  \n",
       "3        NaN  1.252093  \n",
       "4        NaN  1.252093  \n",
       "\n",
       "[5 rows x 260 columns]"
      ]
     },
     "execution_count": 20,
     "metadata": {},
     "output_type": "execute_result"
    }
   ],
   "source": [
    "# looking into how columns are structured more...\n",
    "jewish_covid_data.head()"
   ]
  },
  {
   "cell_type": "code",
   "execution_count": 21,
   "metadata": {},
   "outputs": [
    {
     "data": {
      "text/plain": [
       "(1414, 260)"
      ]
     },
     "execution_count": 21,
     "metadata": {},
     "output_type": "execute_result"
    }
   ],
   "source": [
    "jewish_covid_data.shape"
   ]
  },
  {
   "cell_type": "code",
   "execution_count": 22,
   "metadata": {},
   "outputs": [
    {
     "data": {
      "text/plain": [
       "record             float64\n",
       "qAge              category\n",
       "qState            category\n",
       "q1_1              category\n",
       "q1_2              category\n",
       "                    ...   \n",
       "qOrientation_3    category\n",
       "qHHIncome         category\n",
       "qAbility_1        category\n",
       "qAbility_2        category\n",
       "ALLWT              float64\n",
       "Length: 260, dtype: object"
      ]
     },
     "execution_count": 22,
     "metadata": {},
     "output_type": "execute_result"
    }
   ],
   "source": [
    "jewish_covid_data.dtypes"
   ]
  },
  {
   "cell_type": "code",
   "execution_count": 23,
   "metadata": {},
   "outputs": [
    {
     "name": "stdout",
     "output_type": "stream",
     "text": [
      "record            1414\n",
      "qAge                73\n",
      "qState              48\n",
      "q1_1                 4\n",
      "q1_2                 3\n",
      "                  ... \n",
      "qOrientation_3       1\n",
      "qHHIncome            9\n",
      "qAbility_1           4\n",
      "qAbility_2           1\n",
      "ALLWT              253\n",
      "Length: 260, dtype: int64\n"
     ]
    }
   ],
   "source": [
    "uniques = jewish_covid_data.nunique()\n",
    "print(uniques)"
   ]
  },
  {
   "cell_type": "code",
   "execution_count": 24,
   "metadata": {},
   "outputs": [
    {
     "name": "stdout",
     "output_type": "stream",
     "text": [
      "A man                       712\n",
      "A woman                     682\n",
      "Non-binary                   11\n",
      "I prefer not to disclose      9\n",
      "Name: q1_1, dtype: int64 \n",
      "\n",
      "Non-binary                   3\n",
      "A woman                      3\n",
      "I prefer to self describe    1\n",
      "Name: q1_2, dtype: int64\n"
     ]
    }
   ],
   "source": [
    "print(jewish_covid_data['q1_1'].value_counts(), '\\n')\n",
    "print(jewish_covid_data['q1_2'].value_counts())"
   ]
  },
  {
   "cell_type": "markdown",
   "metadata": {},
   "source": [
    "## Missing values clean-up"
   ]
  },
  {
   "cell_type": "code",
   "execution_count": 25,
   "metadata": {},
   "outputs": [
    {
     "name": "stdout",
     "output_type": "stream",
     "text": [
      "record       0\n",
      "qAge         0\n",
      "qState       0\n",
      "q1_1         0\n",
      "q1_2      1407\n",
      "dtype: int64 \n",
      "\n",
      "q1_2              1407\n",
      "qEthnicity_2      1368\n",
      "qEthnicity_3      1403\n",
      "qEthnicity_4      1409\n",
      "qEthnicity_5      1412\n",
      "                  ... \n",
      "qChildren2_4      1412\n",
      "qChildren3         514\n",
      "qOrientation_2    1404\n",
      "qOrientation_3    1413\n",
      "qAbility_2        1385\n",
      "Length: 162, dtype: int64 \n",
      "\n",
      "The % of null values per feature:\n",
      "\n",
      "q1_2              99.50\n",
      "qEthnicity_2      96.75\n",
      "qEthnicity_3      99.22\n",
      "qEthnicity_4      99.65\n",
      "qEthnicity_5      99.86\n",
      "                  ...  \n",
      "qChildren2_4      99.86\n",
      "qChildren3        36.35\n",
      "qOrientation_2    99.29\n",
      "qOrientation_3    99.93\n",
      "qAbility_2        97.95\n",
      "Length: 162, dtype: float64\n"
     ]
    }
   ],
   "source": [
    "# let's look at null values\n",
    "nulls = jewish_covid_data.isnull().sum()\n",
    "print(nulls.head(), '\\n')\n",
    "\n",
    "#show features with non-zero amount of missing values only\n",
    "print(nulls[nulls!=0], '\\n')\n",
    "\n",
    "#Now as a %\n",
    "nulls_percent = nulls[nulls!=0]/jewish_covid_data.shape[0]*100\n",
    "print('The % of null values per feature:\\n')\n",
    "print(round(nulls_percent,2))"
   ]
  },
  {
   "cell_type": "code",
   "execution_count": 26,
   "metadata": {},
   "outputs": [],
   "source": [
    "#let's drop the record column\n",
    "jewish_covid_data = jewish_covid_data.drop(['record'],axis=1)"
   ]
  },
  {
   "cell_type": "code",
   "execution_count": 36,
   "metadata": {},
   "outputs": [
    {
     "data": {
      "text/plain": [
       "Text(0.5, 0, '% of missing values')"
      ]
     },
     "execution_count": 36,
     "metadata": {},
     "output_type": "execute_result"
    },
    {
     "data": {
      "image/png": "[encoded data removed]",
      "text/plain": [
       "<Figure size 432x288 with 1 Axes>"
      ]
     },
     "metadata": {
      "needs_background": "light"
     },
     "output_type": "display_data"
    }
   ],
   "source": [
    "#Examine distribution of null-values column-wise\n",
    "nulls_percent.plot.hist()\n",
    "plt.ylabel('# of columns')\n",
    "plt.xlabel('% of missing values')"
   ]
  },
  {
   "cell_type": "markdown",
   "metadata": {},
   "source": [
    "Our histogram shows we have feature columns with all sorts of different amounts of missing values, starting at ~30%. Let's just drop all of these and see how the analysis goes from here..."
   ]
  },
  {
   "cell_type": "code",
   "execution_count": 38,
   "metadata": {},
   "outputs": [],
   "source": [
    "#let's now also drop columns with large amounts of nulls\n",
    "thresh = len(jewish_covid_data) * .2\n",
    "jewish_covid_data2 = jewish_covid_data.dropna(thresh = thresh,axis = 1, inplace = False) "
   ]
  },
  {
   "cell_type": "code",
   "execution_count": 39,
   "metadata": {},
   "outputs": [
    {
     "data": {
      "text/plain": [
       "(1414, 157)"
      ]
     },
     "execution_count": 39,
     "metadata": {},
     "output_type": "execute_result"
    }
   ],
   "source": [
    "jewish_covid_data2.shape"
   ]
  },
  {
   "cell_type": "markdown",
   "metadata": {},
   "source": [
    "Reduced our dimensionality by 103 features, nice!"
   ]
  },
  {
   "cell_type": "markdown",
   "metadata": {},
   "source": [
    "## What columns to focus on"
   ]
  },
  {
   "cell_type": "markdown",
   "metadata": {},
   "source": [
    "Looking for actionable self-improvement questions and answers, I looked through the survey document and found the following:\n",
    "\n",
    "Questions 3, 10 (answers 9-11), 13 (first half), 16 (answers 9-11, maybe earlier answers about yiddishkeit too?), maybe Q21 (don't like it's based on yes to Q18), Q31 (A3,6,10), Q32 (all answers but 2, 99), Q33,34, 41!! (7-10)\n",
    "\n",
    "I will focus on question 41 and expand from there if need be."
   ]
  },
  {
   "cell_type": "code",
   "execution_count": 81,
   "metadata": {},
   "outputs": [],
   "source": [
    "#list(jewish_covid_data2.columns)"
   ]
  },
  {
   "cell_type": "markdown",
   "metadata": {},
   "source": [
    "## Outcome variable clean-up/analysis"
   ]
  },
  {
   "cell_type": "markdown",
   "metadata": {},
   "source": [
    "Q41:\n",
    "\n",
    "* 7)   The pandemic has made it feel more important to connect to God.\n",
    "* 8)   The pandemic has made it feel more important to connect to the religious or spiritual aspects of being Jewish.\n",
    "* 9)   The pandemic has made it feel more important to bring Jewish practices into my home.\n",
    "* 10) The pandemic has made it feel more important to live by my Jewish values in the future."
   ]
  },
  {
   "cell_type": "code",
   "execution_count": 78,
   "metadata": {},
   "outputs": [],
   "source": [
    "def likert_to_numeric(df, weights_col):\n",
    "    # convert likert scale to numeric 0-4\n",
    "     \n",
    "    # applying function to each row in the dataframe\n",
    "    # and storing result in a new column\n",
    "    df['q_results'] = df.apply(np.mean * df[weights_col], axis = 1)\n",
    "  \n",
    "    print('\\nAfter Applying Function: ')\n",
    "    # printing the new dataframe\n",
    "    print(df)\n",
    "  \n",
    "    if __name__ == '__main__':\n",
    "        main()"
   ]
  },
  {
   "cell_type": "code",
   "execution_count": 79,
   "metadata": {},
   "outputs": [
    {
     "ename": "KeyError",
     "evalue": "'ALLWT'",
     "output_type": "error",
     "traceback": [
      "\u001b[0;31m---------------------------------------------------------------------------\u001b[0m",
      "\u001b[0;31mKeyError\u001b[0m                                  Traceback (most recent call last)",
      "\u001b[0;32m~/anaconda3/lib/python3.6/site-packages/pandas/core/indexes/base.py\u001b[0m in \u001b[0;36mget_loc\u001b[0;34m(self, key, method, tolerance)\u001b[0m\n\u001b[1;32m   2897\u001b[0m             \u001b[0;32mtry\u001b[0m\u001b[0;34m:\u001b[0m\u001b[0;34m\u001b[0m\u001b[0;34m\u001b[0m\u001b[0m\n\u001b[0;32m-> 2898\u001b[0;31m                 \u001b[0;32mreturn\u001b[0m \u001b[0mself\u001b[0m\u001b[0;34m.\u001b[0m\u001b[0m_engine\u001b[0m\u001b[0;34m.\u001b[0m\u001b[0mget_loc\u001b[0m\u001b[0;34m(\u001b[0m\u001b[0mcasted_key\u001b[0m\u001b[0;34m)\u001b[0m\u001b[0;34m\u001b[0m\u001b[0;34m\u001b[0m\u001b[0m\n\u001b[0m\u001b[1;32m   2899\u001b[0m             \u001b[0;32mexcept\u001b[0m \u001b[0mKeyError\u001b[0m \u001b[0;32mas\u001b[0m \u001b[0merr\u001b[0m\u001b[0;34m:\u001b[0m\u001b[0;34m\u001b[0m\u001b[0;34m\u001b[0m\u001b[0m\n",
      "\u001b[0;32mpandas/_libs/index.pyx\u001b[0m in \u001b[0;36mpandas._libs.index.IndexEngine.get_loc\u001b[0;34m()\u001b[0m\n",
      "\u001b[0;32mpandas/_libs/index.pyx\u001b[0m in \u001b[0;36mpandas._libs.index.IndexEngine.get_loc\u001b[0;34m()\u001b[0m\n",
      "\u001b[0;32mpandas/_libs/hashtable_class_helper.pxi\u001b[0m in \u001b[0;36mpandas._libs.hashtable.PyObjectHashTable.get_item\u001b[0;34m()\u001b[0m\n",
      "\u001b[0;32mpandas/_libs/hashtable_class_helper.pxi\u001b[0m in \u001b[0;36mpandas._libs.hashtable.PyObjectHashTable.get_item\u001b[0;34m()\u001b[0m\n",
      "\u001b[0;31mKeyError\u001b[0m: 'ALLWT'",
      "\nThe above exception was the direct cause of the following exception:\n",
      "\u001b[0;31mKeyError\u001b[0m                                  Traceback (most recent call last)",
      "\u001b[0;32m<ipython-input-79-ce5a55567288>\u001b[0m in \u001b[0;36m<module>\u001b[0;34m\u001b[0m\n\u001b[1;32m      3\u001b[0m  \u001b[0;34m'q41r8'\u001b[0m\u001b[0;34m,\u001b[0m\u001b[0;34m\u001b[0m\u001b[0;34m\u001b[0m\u001b[0m\n\u001b[1;32m      4\u001b[0m  \u001b[0;34m'q41r9'\u001b[0m\u001b[0;34m,\u001b[0m\u001b[0;34m\u001b[0m\u001b[0;34m\u001b[0m\u001b[0m\n\u001b[0;32m----> 5\u001b[0;31m  'q41r10']], 'ALLWT')\n\u001b[0m",
      "\u001b[0;32m<ipython-input-78-df8d77821796>\u001b[0m in \u001b[0;36mlikert_to_numeric\u001b[0;34m(df, weights_col)\u001b[0m\n\u001b[1;32m      4\u001b[0m     \u001b[0;31m# applying function to each row in the dataframe\u001b[0m\u001b[0;34m\u001b[0m\u001b[0;34m\u001b[0m\u001b[0;34m\u001b[0m\u001b[0m\n\u001b[1;32m      5\u001b[0m     \u001b[0;31m# and storing result in a new column\u001b[0m\u001b[0;34m\u001b[0m\u001b[0;34m\u001b[0m\u001b[0;34m\u001b[0m\u001b[0m\n\u001b[0;32m----> 6\u001b[0;31m     \u001b[0mdf\u001b[0m\u001b[0;34m[\u001b[0m\u001b[0;34m'q_results'\u001b[0m\u001b[0;34m]\u001b[0m \u001b[0;34m=\u001b[0m \u001b[0mdf\u001b[0m\u001b[0;34m.\u001b[0m\u001b[0mapply\u001b[0m\u001b[0;34m(\u001b[0m\u001b[0mnp\u001b[0m\u001b[0;34m.\u001b[0m\u001b[0mmean\u001b[0m \u001b[0;34m*\u001b[0m \u001b[0mdf\u001b[0m\u001b[0;34m[\u001b[0m\u001b[0mweights_col\u001b[0m\u001b[0;34m]\u001b[0m\u001b[0;34m,\u001b[0m \u001b[0maxis\u001b[0m \u001b[0;34m=\u001b[0m \u001b[0;36m1\u001b[0m\u001b[0;34m)\u001b[0m\u001b[0;34m\u001b[0m\u001b[0;34m\u001b[0m\u001b[0m\n\u001b[0m\u001b[1;32m      7\u001b[0m \u001b[0;34m\u001b[0m\u001b[0m\n\u001b[1;32m      8\u001b[0m     \u001b[0mprint\u001b[0m\u001b[0;34m(\u001b[0m\u001b[0;34m'\\nAfter Applying Function: '\u001b[0m\u001b[0;34m)\u001b[0m\u001b[0;34m\u001b[0m\u001b[0;34m\u001b[0m\u001b[0m\n",
      "\u001b[0;32m~/anaconda3/lib/python3.6/site-packages/pandas/core/frame.py\u001b[0m in \u001b[0;36m__getitem__\u001b[0;34m(self, key)\u001b[0m\n\u001b[1;32m   2904\u001b[0m             \u001b[0;32mif\u001b[0m \u001b[0mself\u001b[0m\u001b[0;34m.\u001b[0m\u001b[0mcolumns\u001b[0m\u001b[0;34m.\u001b[0m\u001b[0mnlevels\u001b[0m \u001b[0;34m>\u001b[0m \u001b[0;36m1\u001b[0m\u001b[0;34m:\u001b[0m\u001b[0;34m\u001b[0m\u001b[0;34m\u001b[0m\u001b[0m\n\u001b[1;32m   2905\u001b[0m                 \u001b[0;32mreturn\u001b[0m \u001b[0mself\u001b[0m\u001b[0;34m.\u001b[0m\u001b[0m_getitem_multilevel\u001b[0m\u001b[0;34m(\u001b[0m\u001b[0mkey\u001b[0m\u001b[0;34m)\u001b[0m\u001b[0;34m\u001b[0m\u001b[0;34m\u001b[0m\u001b[0m\n\u001b[0;32m-> 2906\u001b[0;31m             \u001b[0mindexer\u001b[0m \u001b[0;34m=\u001b[0m \u001b[0mself\u001b[0m\u001b[0;34m.\u001b[0m\u001b[0mcolumns\u001b[0m\u001b[0;34m.\u001b[0m\u001b[0mget_loc\u001b[0m\u001b[0;34m(\u001b[0m\u001b[0mkey\u001b[0m\u001b[0;34m)\u001b[0m\u001b[0;34m\u001b[0m\u001b[0;34m\u001b[0m\u001b[0m\n\u001b[0m\u001b[1;32m   2907\u001b[0m             \u001b[0;32mif\u001b[0m \u001b[0mis_integer\u001b[0m\u001b[0;34m(\u001b[0m\u001b[0mindexer\u001b[0m\u001b[0;34m)\u001b[0m\u001b[0;34m:\u001b[0m\u001b[0;34m\u001b[0m\u001b[0;34m\u001b[0m\u001b[0m\n\u001b[1;32m   2908\u001b[0m                 \u001b[0mindexer\u001b[0m \u001b[0;34m=\u001b[0m \u001b[0;34m[\u001b[0m\u001b[0mindexer\u001b[0m\u001b[0;34m]\u001b[0m\u001b[0;34m\u001b[0m\u001b[0;34m\u001b[0m\u001b[0m\n",
      "\u001b[0;32m~/anaconda3/lib/python3.6/site-packages/pandas/core/indexes/base.py\u001b[0m in \u001b[0;36mget_loc\u001b[0;34m(self, key, method, tolerance)\u001b[0m\n\u001b[1;32m   2898\u001b[0m                 \u001b[0;32mreturn\u001b[0m \u001b[0mself\u001b[0m\u001b[0;34m.\u001b[0m\u001b[0m_engine\u001b[0m\u001b[0;34m.\u001b[0m\u001b[0mget_loc\u001b[0m\u001b[0;34m(\u001b[0m\u001b[0mcasted_key\u001b[0m\u001b[0;34m)\u001b[0m\u001b[0;34m\u001b[0m\u001b[0;34m\u001b[0m\u001b[0m\n\u001b[1;32m   2899\u001b[0m             \u001b[0;32mexcept\u001b[0m \u001b[0mKeyError\u001b[0m \u001b[0;32mas\u001b[0m \u001b[0merr\u001b[0m\u001b[0;34m:\u001b[0m\u001b[0;34m\u001b[0m\u001b[0;34m\u001b[0m\u001b[0m\n\u001b[0;32m-> 2900\u001b[0;31m                 \u001b[0;32mraise\u001b[0m \u001b[0mKeyError\u001b[0m\u001b[0;34m(\u001b[0m\u001b[0mkey\u001b[0m\u001b[0;34m)\u001b[0m \u001b[0;32mfrom\u001b[0m \u001b[0merr\u001b[0m\u001b[0;34m\u001b[0m\u001b[0;34m\u001b[0m\u001b[0m\n\u001b[0m\u001b[1;32m   2901\u001b[0m \u001b[0;34m\u001b[0m\u001b[0m\n\u001b[1;32m   2902\u001b[0m         \u001b[0;32mif\u001b[0m \u001b[0mtolerance\u001b[0m \u001b[0;32mis\u001b[0m \u001b[0;32mnot\u001b[0m \u001b[0;32mNone\u001b[0m\u001b[0;34m:\u001b[0m\u001b[0;34m\u001b[0m\u001b[0;34m\u001b[0m\u001b[0m\n",
      "\u001b[0;31mKeyError\u001b[0m: 'ALLWT'"
     ]
    }
   ],
   "source": [
    "likert_to_numeric(jewish_covid_data2[[\n",
    " 'q41r7',\n",
    " 'q41r8',\n",
    " 'q41r9',\n",
    " 'q41r10']], 'ALLWT')"
   ]
  },
  {
   "cell_type": "code",
   "execution_count": null,
   "metadata": {},
   "outputs": [],
   "source": []
  }
 ],
 "metadata": {
  "kernelspec": {
   "display_name": "Python 3",
   "language": "python",
   "name": "python3"
  },
  "language_info": {
   "codemirror_mode": {
    "name": "ipython",
    "version": 3
   },
   "file_extension": ".py",
   "mimetype": "text/x-python",
   "name": "python",
   "nbconvert_exporter": "python",
   "pygments_lexer": "ipython3",
   "version": "3.6.13"
  }
 },
 "nbformat": 4,
 "nbformat_minor": 2
}
