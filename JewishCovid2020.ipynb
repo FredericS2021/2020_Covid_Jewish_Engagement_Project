{
 "cells": [
  {
   "cell_type": "markdown",
   "metadata": {},
   "source": [
    "Before we begin...\n",
    "\n",
    "Questions:\n",
    "* How has Covid influenced people?\n",
    " * i.e. are people being introspective, working on themselves, etc. or is something else going on?"
   ]
  },
  {
   "cell_type": "code",
   "execution_count": 94,
   "metadata": {},
   "outputs": [],
   "source": [
    "import pandas as pd\n",
    "import numpy as np\n",
    "import sklearn as sk"
   ]
  },
  {
   "cell_type": "code",
   "execution_count": 95,
   "metadata": {},
   "outputs": [],
   "source": [
    "jewish_covid_data = pd.read_spss('2020 COVID_Jewish Engagement_High Holidays_SPSS SAV_DB.sav')"
   ]
  },
  {
   "cell_type": "code",
   "execution_count": 96,
   "metadata": {
    "scrolled": true
   },
   "outputs": [],
   "source": [
    "#list(jewish_covid_data.columns)"
   ]
  },
  {
   "cell_type": "code",
   "execution_count": 97,
   "metadata": {},
   "outputs": [
    {
     "data": {
      "text/html": [
       "<div>\n",
       "<style scoped>\n",
       "    .dataframe tbody tr th:only-of-type {\n",
       "        vertical-align: middle;\n",
       "    }\n",
       "\n",
       "    .dataframe tbody tr th {\n",
       "        vertical-align: top;\n",
       "    }\n",
       "\n",
       "    .dataframe thead th {\n",
       "        text-align: right;\n",
       "    }\n",
       "</style>\n",
       "<table border=\"1\" class=\"dataframe\">\n",
       "  <thead>\n",
       "    <tr style=\"text-align: right;\">\n",
       "      <th></th>\n",
       "      <th>record</th>\n",
       "      <th>qAge</th>\n",
       "      <th>qState</th>\n",
       "      <th>q1_1</th>\n",
       "      <th>q1_2</th>\n",
       "      <th>qEthnicity_1</th>\n",
       "      <th>qEthnicity_2</th>\n",
       "      <th>qEthnicity_3</th>\n",
       "      <th>qEthnicity_4</th>\n",
       "      <th>qEthnicity_5</th>\n",
       "      <th>...</th>\n",
       "      <th>qChildren3</th>\n",
       "      <th>qMarital</th>\n",
       "      <th>qHHFaith</th>\n",
       "      <th>qOrientation_1</th>\n",
       "      <th>qOrientation_2</th>\n",
       "      <th>qOrientation_3</th>\n",
       "      <th>qHHIncome</th>\n",
       "      <th>qAbility_1</th>\n",
       "      <th>qAbility_2</th>\n",
       "      <th>ALLWT</th>\n",
       "    </tr>\n",
       "  </thead>\n",
       "  <tbody>\n",
       "    <tr>\n",
       "      <th>0</th>\n",
       "      <td>2.0</td>\n",
       "      <td>63</td>\n",
       "      <td>Arizona</td>\n",
       "      <td>A woman</td>\n",
       "      <td>NaN</td>\n",
       "      <td>White-For example, German, Irish, English, Ita...</td>\n",
       "      <td>NaN</td>\n",
       "      <td>NaN</td>\n",
       "      <td>NaN</td>\n",
       "      <td>NaN</td>\n",
       "      <td>...</td>\n",
       "      <td>No</td>\n",
       "      <td>Married / Domestic Partnership</td>\n",
       "      <td>No</td>\n",
       "      <td>Straight or heterosexual</td>\n",
       "      <td>NaN</td>\n",
       "      <td>NaN</td>\n",
       "      <td>$35,000 - less than $50,000</td>\n",
       "      <td>Yes, I do</td>\n",
       "      <td>NaN</td>\n",
       "      <td>1.275025</td>\n",
       "    </tr>\n",
       "    <tr>\n",
       "      <th>1</th>\n",
       "      <td>3.0</td>\n",
       "      <td>67</td>\n",
       "      <td>Massachusetts</td>\n",
       "      <td>A woman</td>\n",
       "      <td>NaN</td>\n",
       "      <td>White-For example, German, Irish, English, Ita...</td>\n",
       "      <td>NaN</td>\n",
       "      <td>NaN</td>\n",
       "      <td>NaN</td>\n",
       "      <td>NaN</td>\n",
       "      <td>...</td>\n",
       "      <td>No</td>\n",
       "      <td>Married / Domestic Partnership</td>\n",
       "      <td>Yes</td>\n",
       "      <td>Straight or heterosexual</td>\n",
       "      <td>NaN</td>\n",
       "      <td>NaN</td>\n",
       "      <td>$150,000 to less than $200,000</td>\n",
       "      <td>No</td>\n",
       "      <td>NaN</td>\n",
       "      <td>0.758117</td>\n",
       "    </tr>\n",
       "    <tr>\n",
       "      <th>2</th>\n",
       "      <td>4.0</td>\n",
       "      <td>53</td>\n",
       "      <td>Florida</td>\n",
       "      <td>A man</td>\n",
       "      <td>NaN</td>\n",
       "      <td>White-For example, German, Irish, English, Ita...</td>\n",
       "      <td>NaN</td>\n",
       "      <td>NaN</td>\n",
       "      <td>NaN</td>\n",
       "      <td>NaN</td>\n",
       "      <td>...</td>\n",
       "      <td>Yes</td>\n",
       "      <td>Married / Domestic Partnership</td>\n",
       "      <td>No</td>\n",
       "      <td>Straight or heterosexual</td>\n",
       "      <td>NaN</td>\n",
       "      <td>NaN</td>\n",
       "      <td>$75,000 - less than $100,000</td>\n",
       "      <td>No</td>\n",
       "      <td>NaN</td>\n",
       "      <td>1.226917</td>\n",
       "    </tr>\n",
       "    <tr>\n",
       "      <th>3</th>\n",
       "      <td>5.0</td>\n",
       "      <td>59</td>\n",
       "      <td>Massachusetts</td>\n",
       "      <td>A woman</td>\n",
       "      <td>NaN</td>\n",
       "      <td>White-For example, German, Irish, English, Ita...</td>\n",
       "      <td>NaN</td>\n",
       "      <td>NaN</td>\n",
       "      <td>NaN</td>\n",
       "      <td>NaN</td>\n",
       "      <td>...</td>\n",
       "      <td>No</td>\n",
       "      <td>Married / Domestic Partnership</td>\n",
       "      <td>No</td>\n",
       "      <td>Straight or heterosexual</td>\n",
       "      <td>NaN</td>\n",
       "      <td>NaN</td>\n",
       "      <td>$50,000 - less than $75,000</td>\n",
       "      <td>No</td>\n",
       "      <td>NaN</td>\n",
       "      <td>1.252093</td>\n",
       "    </tr>\n",
       "    <tr>\n",
       "      <th>4</th>\n",
       "      <td>6.0</td>\n",
       "      <td>55</td>\n",
       "      <td>New Jersey</td>\n",
       "      <td>A woman</td>\n",
       "      <td>NaN</td>\n",
       "      <td>White-For example, German, Irish, English, Ita...</td>\n",
       "      <td>NaN</td>\n",
       "      <td>NaN</td>\n",
       "      <td>NaN</td>\n",
       "      <td>NaN</td>\n",
       "      <td>...</td>\n",
       "      <td>Yes</td>\n",
       "      <td>Married / Domestic Partnership</td>\n",
       "      <td>No</td>\n",
       "      <td>Straight or heterosexual</td>\n",
       "      <td>NaN</td>\n",
       "      <td>NaN</td>\n",
       "      <td>$200,000 or more</td>\n",
       "      <td>No</td>\n",
       "      <td>NaN</td>\n",
       "      <td>1.252093</td>\n",
       "    </tr>\n",
       "  </tbody>\n",
       "</table>\n",
       "<p>5 rows × 260 columns</p>\n",
       "</div>"
      ],
      "text/plain": [
       "   record qAge         qState     q1_1 q1_2  \\\n",
       "0     2.0   63        Arizona  A woman  NaN   \n",
       "1     3.0   67  Massachusetts  A woman  NaN   \n",
       "2     4.0   53        Florida    A man  NaN   \n",
       "3     5.0   59  Massachusetts  A woman  NaN   \n",
       "4     6.0   55     New Jersey  A woman  NaN   \n",
       "\n",
       "                                        qEthnicity_1 qEthnicity_2  \\\n",
       "0  White-For example, German, Irish, English, Ita...          NaN   \n",
       "1  White-For example, German, Irish, English, Ita...          NaN   \n",
       "2  White-For example, German, Irish, English, Ita...          NaN   \n",
       "3  White-For example, German, Irish, English, Ita...          NaN   \n",
       "4  White-For example, German, Irish, English, Ita...          NaN   \n",
       "\n",
       "  qEthnicity_3 qEthnicity_4 qEthnicity_5  ... qChildren3  \\\n",
       "0          NaN          NaN          NaN  ...         No   \n",
       "1          NaN          NaN          NaN  ...         No   \n",
       "2          NaN          NaN          NaN  ...        Yes   \n",
       "3          NaN          NaN          NaN  ...         No   \n",
       "4          NaN          NaN          NaN  ...        Yes   \n",
       "\n",
       "                         qMarital qHHFaith            qOrientation_1  \\\n",
       "0  Married / Domestic Partnership       No  Straight or heterosexual   \n",
       "1  Married / Domestic Partnership      Yes  Straight or heterosexual   \n",
       "2  Married / Domestic Partnership       No  Straight or heterosexual   \n",
       "3  Married / Domestic Partnership       No  Straight or heterosexual   \n",
       "4  Married / Domestic Partnership       No  Straight or heterosexual   \n",
       "\n",
       "  qOrientation_2 qOrientation_3                       qHHIncome qAbility_1  \\\n",
       "0            NaN            NaN     $35,000 - less than $50,000  Yes, I do   \n",
       "1            NaN            NaN  $150,000 to less than $200,000         No   \n",
       "2            NaN            NaN    $75,000 - less than $100,000         No   \n",
       "3            NaN            NaN     $50,000 - less than $75,000         No   \n",
       "4            NaN            NaN                $200,000 or more         No   \n",
       "\n",
       "  qAbility_2     ALLWT  \n",
       "0        NaN  1.275025  \n",
       "1        NaN  0.758117  \n",
       "2        NaN  1.226917  \n",
       "3        NaN  1.252093  \n",
       "4        NaN  1.252093  \n",
       "\n",
       "[5 rows x 260 columns]"
      ]
     },
     "execution_count": 97,
     "metadata": {},
     "output_type": "execute_result"
    }
   ],
   "source": [
    "# looking into how columns are structured more...\n",
    "jewish_covid_data.head()"
   ]
  },
  {
   "cell_type": "code",
   "execution_count": 98,
   "metadata": {},
   "outputs": [
    {
     "data": {
      "text/html": [
       "<div>\n",
       "<style scoped>\n",
       "    .dataframe tbody tr th:only-of-type {\n",
       "        vertical-align: middle;\n",
       "    }\n",
       "\n",
       "    .dataframe tbody tr th {\n",
       "        vertical-align: top;\n",
       "    }\n",
       "\n",
       "    .dataframe thead th {\n",
       "        text-align: right;\n",
       "    }\n",
       "</style>\n",
       "<table border=\"1\" class=\"dataframe\">\n",
       "  <thead>\n",
       "    <tr style=\"text-align: right;\">\n",
       "      <th></th>\n",
       "      <th>record</th>\n",
       "      <th>ALLWT</th>\n",
       "    </tr>\n",
       "  </thead>\n",
       "  <tbody>\n",
       "    <tr>\n",
       "      <th>count</th>\n",
       "      <td>1414.000000</td>\n",
       "      <td>1414.000000</td>\n",
       "    </tr>\n",
       "    <tr>\n",
       "      <th>mean</th>\n",
       "      <td>2273.929986</td>\n",
       "      <td>1.006420</td>\n",
       "    </tr>\n",
       "    <tr>\n",
       "      <th>std</th>\n",
       "      <td>1391.450821</td>\n",
       "      <td>0.333296</td>\n",
       "    </tr>\n",
       "    <tr>\n",
       "      <th>min</th>\n",
       "      <td>2.000000</td>\n",
       "      <td>0.268420</td>\n",
       "    </tr>\n",
       "    <tr>\n",
       "      <th>25%</th>\n",
       "      <td>974.750000</td>\n",
       "      <td>0.758117</td>\n",
       "    </tr>\n",
       "    <tr>\n",
       "      <th>50%</th>\n",
       "      <td>2479.500000</td>\n",
       "      <td>0.902928</td>\n",
       "    </tr>\n",
       "    <tr>\n",
       "      <th>75%</th>\n",
       "      <td>3549.750000</td>\n",
       "      <td>1.257545</td>\n",
       "    </tr>\n",
       "    <tr>\n",
       "      <th>max</th>\n",
       "      <td>4557.000000</td>\n",
       "      <td>1.848027</td>\n",
       "    </tr>\n",
       "  </tbody>\n",
       "</table>\n",
       "</div>"
      ],
      "text/plain": [
       "            record        ALLWT\n",
       "count  1414.000000  1414.000000\n",
       "mean   2273.929986     1.006420\n",
       "std    1391.450821     0.333296\n",
       "min       2.000000     0.268420\n",
       "25%     974.750000     0.758117\n",
       "50%    2479.500000     0.902928\n",
       "75%    3549.750000     1.257545\n",
       "max    4557.000000     1.848027"
      ]
     },
     "execution_count": 98,
     "metadata": {},
     "output_type": "execute_result"
    }
   ],
   "source": [
    "jewish_covid_data.describe()"
   ]
  },
  {
   "cell_type": "code",
   "execution_count": 99,
   "metadata": {},
   "outputs": [
    {
     "data": {
      "text/plain": [
       "record             float64\n",
       "qAge              category\n",
       "qState            category\n",
       "q1_1              category\n",
       "q1_2              category\n",
       "                    ...   \n",
       "qOrientation_3    category\n",
       "qHHIncome         category\n",
       "qAbility_1        category\n",
       "qAbility_2        category\n",
       "ALLWT              float64\n",
       "Length: 260, dtype: object"
      ]
     },
     "execution_count": 99,
     "metadata": {},
     "output_type": "execute_result"
    }
   ],
   "source": [
    "jewish_covid_data.dtypes"
   ]
  },
  {
   "cell_type": "code",
   "execution_count": 100,
   "metadata": {},
   "outputs": [
    {
     "name": "stdout",
     "output_type": "stream",
     "text": [
      "record            1414\n",
      "qAge                73\n",
      "qState              48\n",
      "q1_1                 4\n",
      "q1_2                 3\n",
      "                  ... \n",
      "qOrientation_3       1\n",
      "qHHIncome            9\n",
      "qAbility_1           4\n",
      "qAbility_2           1\n",
      "ALLWT              253\n",
      "Length: 260, dtype: int64\n"
     ]
    }
   ],
   "source": [
    "uniques = jewish_covid_data.nunique()\n",
    "print(uniques)"
   ]
  },
  {
   "cell_type": "code",
   "execution_count": 101,
   "metadata": {},
   "outputs": [
    {
     "name": "stdout",
     "output_type": "stream",
     "text": [
      "A man                       712\n",
      "A woman                     682\n",
      "Non-binary                   11\n",
      "I prefer not to disclose      9\n",
      "Name: q1_1, dtype: int64 \n",
      "\n",
      "Non-binary                   3\n",
      "A woman                      3\n",
      "I prefer to self describe    1\n",
      "Name: q1_2, dtype: int64\n"
     ]
    }
   ],
   "source": [
    "print(jewish_covid_data['q1_1'].value_counts(), '\\n')\n",
    "print(jewish_covid_data['q1_2'].value_counts())\n"
   ]
  },
  {
   "cell_type": "code",
   "execution_count": 102,
   "metadata": {},
   "outputs": [
    {
     "name": "stdout",
     "output_type": "stream",
     "text": [
      "record       0\n",
      "qAge         0\n",
      "qState       0\n",
      "q1_1         0\n",
      "q1_2      1407\n",
      "dtype: int64 \n",
      "\n",
      "q1_2              1407\n",
      "qEthnicity_2      1368\n",
      "qEthnicity_3      1403\n",
      "qEthnicity_4      1409\n",
      "qEthnicity_5      1412\n",
      "                  ... \n",
      "qChildren2_4      1412\n",
      "qChildren3         514\n",
      "qOrientation_2    1404\n",
      "qOrientation_3    1413\n",
      "qAbility_2        1385\n",
      "Length: 162, dtype: int64 \n",
      "\n",
      "The % of null values per feature:\n",
      "\n",
      "q1_2              99.50\n",
      "qEthnicity_2      96.75\n",
      "qEthnicity_3      99.22\n",
      "qEthnicity_4      99.65\n",
      "qEthnicity_5      99.86\n",
      "                  ...  \n",
      "qChildren2_4      99.86\n",
      "qChildren3        36.35\n",
      "qOrientation_2    99.29\n",
      "qOrientation_3    99.93\n",
      "qAbility_2        97.95\n",
      "Length: 162, dtype: float64\n"
     ]
    }
   ],
   "source": [
    "# let's look at null values\n",
    "nulls = jewish_covid_data.isnull().sum()\n",
    "print(nulls.head(), '\\n')\n",
    "\n",
    "#show features with non-zero amount of missing values only\n",
    "print(nulls[nulls!=0], '\\n')\n",
    "\n",
    "#Now as a %\n",
    "nulls_percent = nulls[nulls!=0]/jewish_covid_data.shape[0]*100\n",
    "print('The % of null values per feature:\\n')\n",
    "print(round(nulls_percent,2))"
   ]
  },
  {
   "cell_type": "code",
   "execution_count": 103,
   "metadata": {},
   "outputs": [],
   "source": [
    "#let's drop the record column\n",
    "jewish_covid_data = jewish_covid_data.drop(['record'],axis=1)"
   ]
  },
  {
   "cell_type": "code",
   "execution_count": 104,
   "metadata": {},
   "outputs": [
    {
     "data": {
      "text/plain": [
       "<AxesSubplot:ylabel='Frequency'>"
      ]
     },
     "execution_count": 104,
     "metadata": {},
     "output_type": "execute_result"
    },
    {
     "data": {
      "image/png": "[encoded data removed]",
      "text/plain": [
       "<Figure size 432x288 with 1 Axes>"
      ]
     },
     "metadata": {
      "needs_background": "light"
     },
     "output_type": "display_data"
    }
   ],
   "source": [
    "nulls_percent.plot.hist()"
   ]
  },
  {
   "cell_type": "markdown",
   "metadata": {},
   "source": [
    "Our histogram shows we have feature columns with all sorts of different amounts of missing values, starting at ~30%. Let's just drop all of these and see how the analysis goes from here..."
   ]
  },
  {
   "cell_type": "code",
   "execution_count": 105,
   "metadata": {},
   "outputs": [],
   "source": [
    "#let's now also drop columns with large amounts of nulls\n",
    "thresh = len(jewish_covid_data) * .2\n",
    "jewish_covid_data.dropna(thresh = thresh,axis = 1, inplace = True) "
   ]
  },
  {
   "cell_type": "code",
   "execution_count": 106,
   "metadata": {},
   "outputs": [
    {
     "data": {
      "text/plain": [
       "Index(['qAge', 'qState', 'q1_1', 'qEthnicity_1', 'q2_1', 'q2_2', 'q2_3',\n",
       "       'q2_4', 'Q3IN', 'q3r1',\n",
       "       ...\n",
       "       'qPOC', 'qChildren', 'qChildren2_1', 'qChildren3', 'qMarital',\n",
       "       'qHHFaith', 'qOrientation_1', 'qHHIncome', 'qAbility_1', 'ALLWT'],\n",
       "      dtype='object', length=157)"
      ]
     },
     "execution_count": 106,
     "metadata": {},
     "output_type": "execute_result"
    }
   ],
   "source": [
    "jewish_covid_data.columns"
   ]
  }
 ],
 "metadata": {
  "kernelspec": {
   "display_name": "Python 3",
   "language": "python",
   "name": "python3"
  },
  "language_info": {
   "codemirror_mode": {
    "name": "ipython",
    "version": 3
   },
   "file_extension": ".py",
   "mimetype": "text/x-python",
   "name": "python",
   "nbconvert_exporter": "python",
   "pygments_lexer": "ipython3",
   "version": "3.6.13"
  }
 },
 "nbformat": 4,
 "nbformat_minor": 2
}
